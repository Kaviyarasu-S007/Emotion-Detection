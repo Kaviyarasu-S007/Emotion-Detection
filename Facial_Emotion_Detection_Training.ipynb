{
  "cells": [
    {
      "cell_type": "markdown",
      "source": [
        "FACIAL EMOTION RECOGNITION\n"
      ],
      "metadata": {
        "id": "ufgXtqbUhqNR"
      }
    },
    {
      "cell_type": "code",
      "source": [
        "#@title Default title text\n",
        "from google.colab import drive\n",
        "drive.mount('/content/drive')"
      ],
      "metadata": {
        "id": "GUo8SUYllWtN",
        "colab": {
          "base_uri": "https://localhost:8080/"
        },
        "outputId": "77e0a076-41f0-4386-f30a-a52016226499"
      },
      "execution_count": null,
      "outputs": [
        {
          "output_type": "stream",
          "name": "stdout",
          "text": [
            "Mounted at /content/drive\n"
          ]
        }
      ]
    },
    {
      "cell_type": "code",
      "source": [
        "import pandas as pd\n",
        "import numpy as np\n",
        "import os\n",
        "import tensorflow as tf\n",
        "from matplotlib import pyplot\n"
      ],
      "metadata": {
        "id": "PWi47nV-49Js"
      },
      "execution_count": null,
      "outputs": []
    },
    {
      "cell_type": "code",
      "source": [
        "df=pd.read_csv(\"/content/drive/MyDrive/fer2013/fer2013.csv\")\n",
        "df"
      ],
      "metadata": {
        "colab": {
          "base_uri": "https://localhost:8080/",
          "height": 423
        },
        "id": "9K9bUPR957Qk",
        "outputId": "bcd47db6-d388-4323-e8cc-f04b9932e9a2"
      },
      "execution_count": null,
      "outputs": [
        {
          "output_type": "execute_result",
          "data": {
            "text/plain": [
              "       emotion                                             pixels        Usage\n",
              "0            0  70 80 82 72 58 58 60 63 54 58 60 48 89 115 121...     Training\n",
              "1            0  151 150 147 155 148 133 111 140 170 174 182 15...     Training\n",
              "2            2  231 212 156 164 174 138 161 173 182 200 106 38...     Training\n",
              "3            4  24 32 36 30 32 23 19 20 30 41 21 22 32 34 21 1...     Training\n",
              "4            6  4 0 0 0 0 0 0 0 0 0 0 0 3 15 23 28 48 50 58 84...     Training\n",
              "...        ...                                                ...          ...\n",
              "35882        6  50 36 17 22 23 29 33 39 34 37 37 37 39 43 48 5...  PrivateTest\n",
              "35883        3  178 174 172 173 181 188 191 194 196 199 200 20...  PrivateTest\n",
              "35884        0  17 17 16 23 28 22 19 17 25 26 20 24 31 19 27 9...  PrivateTest\n",
              "35885        3  30 28 28 29 31 30 42 68 79 81 77 67 67 71 63 6...  PrivateTest\n",
              "35886        2  19 13 14 12 13 16 21 33 50 57 71 84 97 108 122...  PrivateTest\n",
              "\n",
              "[35887 rows x 3 columns]"
            ],
            "text/html": [
              "\n",
              "  <div id=\"df-40c33ed5-d98d-492a-b35f-7cf33c524476\">\n",
              "    <div class=\"colab-df-container\">\n",
              "      <div>\n",
              "<style scoped>\n",
              "    .dataframe tbody tr th:only-of-type {\n",
              "        vertical-align: middle;\n",
              "    }\n",
              "\n",
              "    .dataframe tbody tr th {\n",
              "        vertical-align: top;\n",
              "    }\n",
              "\n",
              "    .dataframe thead th {\n",
              "        text-align: right;\n",
              "    }\n",
              "</style>\n",
              "<table border=\"1\" class=\"dataframe\">\n",
              "  <thead>\n",
              "    <tr style=\"text-align: right;\">\n",
              "      <th></th>\n",
              "      <th>emotion</th>\n",
              "      <th>pixels</th>\n",
              "      <th>Usage</th>\n",
              "    </tr>\n",
              "  </thead>\n",
              "  <tbody>\n",
              "    <tr>\n",
              "      <th>0</th>\n",
              "      <td>0</td>\n",
              "      <td>70 80 82 72 58 58 60 63 54 58 60 48 89 115 121...</td>\n",
              "      <td>Training</td>\n",
              "    </tr>\n",
              "    <tr>\n",
              "      <th>1</th>\n",
              "      <td>0</td>\n",
              "      <td>151 150 147 155 148 133 111 140 170 174 182 15...</td>\n",
              "      <td>Training</td>\n",
              "    </tr>\n",
              "    <tr>\n",
              "      <th>2</th>\n",
              "      <td>2</td>\n",
              "      <td>231 212 156 164 174 138 161 173 182 200 106 38...</td>\n",
              "      <td>Training</td>\n",
              "    </tr>\n",
              "    <tr>\n",
              "      <th>3</th>\n",
              "      <td>4</td>\n",
              "      <td>24 32 36 30 32 23 19 20 30 41 21 22 32 34 21 1...</td>\n",
              "      <td>Training</td>\n",
              "    </tr>\n",
              "    <tr>\n",
              "      <th>4</th>\n",
              "      <td>6</td>\n",
              "      <td>4 0 0 0 0 0 0 0 0 0 0 0 3 15 23 28 48 50 58 84...</td>\n",
              "      <td>Training</td>\n",
              "    </tr>\n",
              "    <tr>\n",
              "      <th>...</th>\n",
              "      <td>...</td>\n",
              "      <td>...</td>\n",
              "      <td>...</td>\n",
              "    </tr>\n",
              "    <tr>\n",
              "      <th>35882</th>\n",
              "      <td>6</td>\n",
              "      <td>50 36 17 22 23 29 33 39 34 37 37 37 39 43 48 5...</td>\n",
              "      <td>PrivateTest</td>\n",
              "    </tr>\n",
              "    <tr>\n",
              "      <th>35883</th>\n",
              "      <td>3</td>\n",
              "      <td>178 174 172 173 181 188 191 194 196 199 200 20...</td>\n",
              "      <td>PrivateTest</td>\n",
              "    </tr>\n",
              "    <tr>\n",
              "      <th>35884</th>\n",
              "      <td>0</td>\n",
              "      <td>17 17 16 23 28 22 19 17 25 26 20 24 31 19 27 9...</td>\n",
              "      <td>PrivateTest</td>\n",
              "    </tr>\n",
              "    <tr>\n",
              "      <th>35885</th>\n",
              "      <td>3</td>\n",
              "      <td>30 28 28 29 31 30 42 68 79 81 77 67 67 71 63 6...</td>\n",
              "      <td>PrivateTest</td>\n",
              "    </tr>\n",
              "    <tr>\n",
              "      <th>35886</th>\n",
              "      <td>2</td>\n",
              "      <td>19 13 14 12 13 16 21 33 50 57 71 84 97 108 122...</td>\n",
              "      <td>PrivateTest</td>\n",
              "    </tr>\n",
              "  </tbody>\n",
              "</table>\n",
              "<p>35887 rows × 3 columns</p>\n",
              "</div>\n",
              "      <button class=\"colab-df-convert\" onclick=\"convertToInteractive('df-40c33ed5-d98d-492a-b35f-7cf33c524476')\"\n",
              "              title=\"Convert this dataframe to an interactive table.\"\n",
              "              style=\"display:none;\">\n",
              "        \n",
              "  <svg xmlns=\"http://www.w3.org/2000/svg\" height=\"24px\"viewBox=\"0 0 24 24\"\n",
              "       width=\"24px\">\n",
              "    <path d=\"M0 0h24v24H0V0z\" fill=\"none\"/>\n",
              "    <path d=\"M18.56 5.44l.94 2.06.94-2.06 2.06-.94-2.06-.94-.94-2.06-.94 2.06-2.06.94zm-11 1L8.5 8.5l.94-2.06 2.06-.94-2.06-.94L8.5 2.5l-.94 2.06-2.06.94zm10 10l.94 2.06.94-2.06 2.06-.94-2.06-.94-.94-2.06-.94 2.06-2.06.94z\"/><path d=\"M17.41 7.96l-1.37-1.37c-.4-.4-.92-.59-1.43-.59-.52 0-1.04.2-1.43.59L10.3 9.45l-7.72 7.72c-.78.78-.78 2.05 0 2.83L4 21.41c.39.39.9.59 1.41.59.51 0 1.02-.2 1.41-.59l7.78-7.78 2.81-2.81c.8-.78.8-2.07 0-2.86zM5.41 20L4 18.59l7.72-7.72 1.47 1.35L5.41 20z\"/>\n",
              "  </svg>\n",
              "      </button>\n",
              "      \n",
              "  <style>\n",
              "    .colab-df-container {\n",
              "      display:flex;\n",
              "      flex-wrap:wrap;\n",
              "      gap: 12px;\n",
              "    }\n",
              "\n",
              "    .colab-df-convert {\n",
              "      background-color: #E8F0FE;\n",
              "      border: none;\n",
              "      border-radius: 50%;\n",
              "      cursor: pointer;\n",
              "      display: none;\n",
              "      fill: #1967D2;\n",
              "      height: 32px;\n",
              "      padding: 0 0 0 0;\n",
              "      width: 32px;\n",
              "    }\n",
              "\n",
              "    .colab-df-convert:hover {\n",
              "      background-color: #E2EBFA;\n",
              "      box-shadow: 0px 1px 2px rgba(60, 64, 67, 0.3), 0px 1px 3px 1px rgba(60, 64, 67, 0.15);\n",
              "      fill: #174EA6;\n",
              "    }\n",
              "\n",
              "    [theme=dark] .colab-df-convert {\n",
              "      background-color: #3B4455;\n",
              "      fill: #D2E3FC;\n",
              "    }\n",
              "\n",
              "    [theme=dark] .colab-df-convert:hover {\n",
              "      background-color: #434B5C;\n",
              "      box-shadow: 0px 1px 3px 1px rgba(0, 0, 0, 0.15);\n",
              "      filter: drop-shadow(0px 1px 2px rgba(0, 0, 0, 0.3));\n",
              "      fill: #FFFFFF;\n",
              "    }\n",
              "  </style>\n",
              "\n",
              "      <script>\n",
              "        const buttonEl =\n",
              "          document.querySelector('#df-40c33ed5-d98d-492a-b35f-7cf33c524476 button.colab-df-convert');\n",
              "        buttonEl.style.display =\n",
              "          google.colab.kernel.accessAllowed ? 'block' : 'none';\n",
              "\n",
              "        async function convertToInteractive(key) {\n",
              "          const element = document.querySelector('#df-40c33ed5-d98d-492a-b35f-7cf33c524476');\n",
              "          const dataTable =\n",
              "            await google.colab.kernel.invokeFunction('convertToInteractive',\n",
              "                                                     [key], {});\n",
              "          if (!dataTable) return;\n",
              "\n",
              "          const docLinkHtml = 'Like what you see? Visit the ' +\n",
              "            '<a target=\"_blank\" href=https://colab.research.google.com/notebooks/data_table.ipynb>data table notebook</a>'\n",
              "            + ' to learn more about interactive tables.';\n",
              "          element.innerHTML = '';\n",
              "          dataTable['output_type'] = 'display_data';\n",
              "          await google.colab.output.renderOutput(dataTable, element);\n",
              "          const docLink = document.createElement('div');\n",
              "          docLink.innerHTML = docLinkHtml;\n",
              "          element.appendChild(docLink);\n",
              "        }\n",
              "      </script>\n",
              "    </div>\n",
              "  </div>\n",
              "  "
            ]
          },
          "metadata": {},
          "execution_count": 47
        }
      ]
    },
    {
      "cell_type": "code",
      "source": [
        "df.emotion.unique()"
      ],
      "metadata": {
        "colab": {
          "base_uri": "https://localhost:8080/"
        },
        "id": "XAwZJZK96NHm",
        "outputId": "e2551ea9-ec8a-4576-bff7-b6832235d6b9"
      },
      "execution_count": null,
      "outputs": [
        {
          "output_type": "execute_result",
          "data": {
            "text/plain": [
              "array([0, 2, 4, 6, 3, 5, 1])"
            ]
          },
          "metadata": {},
          "execution_count": 29
        }
      ]
    },
    {
      "cell_type": "code",
      "source": [
        "label_to_text={0:'Anger',1:'Disgust',2:'Fear',3:'Happy',4:'Sad',5:'Surprise',6:'Neutral'}"
      ],
      "metadata": {
        "id": "l8wwbvLk6TpM"
      },
      "execution_count": null,
      "outputs": []
    },
    {
      "cell_type": "code",
      "source": [
        "pyplot.imshow(np.array(df.pixels.loc[0].split(' ')).reshape(48,48,1).astype('float'))"
      ],
      "metadata": {
        "colab": {
          "base_uri": "https://localhost:8080/",
          "height": 448
        },
        "id": "TGrD2H1g6ns-",
        "outputId": "f344370d-70f4-459e-a0c7-b9553739fc22"
      },
      "execution_count": null,
      "outputs": [
        {
          "output_type": "execute_result",
          "data": {
            "text/plain": [
              "<matplotlib.image.AxesImage at 0x7f1c73e808b0>"
            ]
          },
          "metadata": {},
          "execution_count": 31
        },
        {
          "output_type": "display_data",
          "data": {
            "text/plain": [
              "<Figure size 640x480 with 1 Axes>"
            ],
            "image/png": "[encoded data removed]"
          },
          "metadata": {}
        }
      ]
    },
    {
      "cell_type": "code",
      "source": [
        "img_array=df.pixels.apply(lambda x:np.array(x.split(' ')).reshape(48,48,1).astype('float32'))"
      ],
      "metadata": {
        "id": "dx4tApp26zBc"
      },
      "execution_count": null,
      "outputs": []
    },
    {
      "cell_type": "code",
      "source": [
        "img_array=np.stack(img_array,axis=0)"
      ],
      "metadata": {
        "id": "DqIWDngN7Uws"
      },
      "execution_count": null,
      "outputs": []
    },
    {
      "cell_type": "code",
      "source": [
        "pyplot.imshow(img_array[2])"
      ],
      "metadata": {
        "colab": {
          "base_uri": "https://localhost:8080/",
          "height": 448
        },
        "id": "6zW0a0O37aUe",
        "outputId": "9c3c350f-657a-4c35-bdb9-d37bdd87d5ba"
      },
      "execution_count": null,
      "outputs": [
        {
          "output_type": "execute_result",
          "data": {
            "text/plain": [
              "<matplotlib.image.AxesImage at 0x7f1c73ed6ec0>"
            ]
          },
          "metadata": {},
          "execution_count": 34
        },
        {
          "output_type": "display_data",
          "data": {
            "text/plain": [
              "<Figure size 640x480 with 1 Axes>"
            ],
            "image/png": "[encoded data removed]"
          },
          "metadata": {}
        }
      ]
    },
    {
      "cell_type": "code",
      "source": [
        "labels=df.emotion.values\n",
        "len(labels)"
      ],
      "metadata": {
        "colab": {
          "base_uri": "https://localhost:8080/"
        },
        "id": "Wz03sair7pCv",
        "outputId": "59404e32-8eba-439a-9f5c-778e20edd6c4"
      },
      "execution_count": null,
      "outputs": [
        {
          "output_type": "execute_result",
          "data": {
            "text/plain": [
              "35887"
            ]
          },
          "metadata": {},
          "execution_count": 35
        }
      ]
    },
    {
      "cell_type": "code",
      "source": [
        "from sklearn.model_selection import train_test_split\n",
        "\n",
        "X_train,X_test,y_train,y_test=train_test_split(img_array,labels,test_size=0.2)"
      ],
      "metadata": {
        "id": "F45Ae1Bn7x-O"
      },
      "execution_count": null,
      "outputs": []
    },
    {
      "cell_type": "code",
      "source": [
        "y_train.shape"
      ],
      "metadata": {
        "colab": {
          "base_uri": "https://localhost:8080/"
        },
        "id": "XbrwQfFiB9q2",
        "outputId": "7a7a8431-0beb-4e51-909b-c8c409329032"
      },
      "execution_count": null,
      "outputs": [
        {
          "output_type": "execute_result",
          "data": {
            "text/plain": [
              "(28709,)"
            ]
          },
          "metadata": {},
          "execution_count": 37
        }
      ]
    },
    {
      "cell_type": "code",
      "source": [
        "X_train=X_train/255\n",
        "X_test=X_test/255"
      ],
      "metadata": {
        "id": "fCrAb0uq8WD9"
      },
      "execution_count": null,
      "outputs": []
    },
    {
      "cell_type": "code",
      "source": [
        "import tensorflow as tf\n",
        "import numpy as np\n",
        "import os\n",
        "\n",
        "# Create the model\n",
        "model = tf.keras.models.Sequential([\n",
        "    tf.keras.layers.Conv2D(32, (3, 3), activation='relu', input_shape=(48, 48, 1)),\n",
        "    tf.keras.layers.MaxPool2D(2, 2),\n",
        "\n",
        "\n",
        "    tf.keras.layers.Conv2D(64, (3, 3), activation='relu', input_shape=(48, 48, 1)),\n",
        "    tf.keras.layers.MaxPool2D(2, 2),\n",
        "\n",
        "\n",
        "    tf.keras.layers.Conv2D(128, (3, 3), activation='relu', input_shape=(48, 48, 1)),\n",
        "    tf.keras.layers.MaxPool2D(2, 2),\n",
        "    tf.keras.layers.Conv2D(256, (3, 3), activation='relu', input_shape=(48, 48, 1)),\n",
        "    tf.keras.layers.MaxPool2D(2, 2),\n",
        "\n",
        "\n",
        "    tf.keras.layers.Flatten(),\n",
        "\n",
        "    tf.keras.layers.Dense(1000, activation='relu'),\n",
        "    tf.keras.layers.Dense(7, activation='softmax')\n",
        "])\n"
      ],
      "metadata": {
        "id": "7pz_h2V383nc"
      },
      "execution_count": null,
      "outputs": []
    },
    {
      "cell_type": "code",
      "source": [
        "model.summary()"
      ],
      "metadata": {
        "colab": {
          "base_uri": "https://localhost:8080/"
        },
        "id": "LLAl729v9USj",
        "outputId": "903dc3e4-e340-4293-f5ad-3d33236a1841"
      },
      "execution_count": null,
      "outputs": [
        {
          "output_type": "stream",
          "name": "stdout",
          "text": [
            "Model: \"sequential_8\"\n",
            "_________________________________________________________________\n",
            " Layer (type)                Output Shape              Param #   \n",
            "=================================================================\n",
            " conv2d_36 (Conv2D)          (None, 46, 46, 32)        320       \n",
            "                                                                 \n",
            " max_pooling2d_22 (MaxPoolin  (None, 23, 23, 32)       0         \n",
            " g2D)                                                            \n",
            "                                                                 \n",
            " conv2d_37 (Conv2D)          (None, 21, 21, 64)        18496     \n",
            "                                                                 \n",
            " max_pooling2d_23 (MaxPoolin  (None, 10, 10, 64)       0         \n",
            " g2D)                                                            \n",
            "                                                                 \n",
            " conv2d_38 (Conv2D)          (None, 8, 8, 128)         73856     \n",
            "                                                                 \n",
            " max_pooling2d_24 (MaxPoolin  (None, 4, 4, 128)        0         \n",
            " g2D)                                                            \n",
            "                                                                 \n",
            " conv2d_39 (Conv2D)          (None, 2, 2, 256)         295168    \n",
            "                                                                 \n",
            " max_pooling2d_25 (MaxPoolin  (None, 1, 1, 256)        0         \n",
            " g2D)                                                            \n",
            "                                                                 \n",
            " flatten_8 (Flatten)         (None, 256)               0         \n",
            "                                                                 \n",
            " dense_22 (Dense)            (None, 1000)              257000    \n",
            "                                                                 \n",
            " dense_23 (Dense)            (None, 7)                 7007      \n",
            "                                                                 \n",
            "=================================================================\n",
            "Total params: 651,847\n",
            "Trainable params: 651,847\n",
            "Non-trainable params: 0\n",
            "_________________________________________________________________\n"
          ]
        }
      ]
    },
    {
      "cell_type": "code",
      "source": [
        "model.compile(optimizer=tf.keras.optimizers.RMSprop(learning_rate=.0001),loss='sparse_categorical_crossentropy',metrics=['accuracy'])"
      ],
      "metadata": {
        "id": "STaM43Ay9WaN"
      },
      "execution_count": null,
      "outputs": []
    },
    {
      "cell_type": "code",
      "source": [
        "try:\n",
        "    os.mkdir('checkpoint')\n",
        "except FileExistsError:\n",
        "    pass\n",
        "\n",
        "# Define the checkpoint file path\n",
        "checkpoint_path = 'checkpoint/model_checkpoint.h5'"
      ],
      "metadata": {
        "id": "HuMRfqDP_JG1"
      },
      "execution_count": null,
      "outputs": []
    },
    {
      "cell_type": "code",
      "source": [
        "callback=tf.keras.callbacks.ModelCheckpoint(filepath=checkpoint_path,monitor='val_accuracy',verbose=1,save_freq='epoch',save_best_only=True,save_weights_only=False,mode='max')"
      ],
      "metadata": {
        "id": "7q_5IgLs_fM5"
      },
      "execution_count": null,
      "outputs": []
    },
    {
      "cell_type": "code",
      "source": [
        "model.fit(X_train,y_train,epochs=50,validation_split=.1,callbacks=callback)"
      ],
      "metadata": {
        "colab": {
          "base_uri": "https://localhost:8080/"
        },
        "id": "wLbU_nKeAKt4",
        "outputId": "f5162f63-7aae-4f67-e91b-cee5f0646770"
      },
      "execution_count": null,
      "outputs": [
        {
          "output_type": "stream",
          "name": "stdout",
          "text": [
            "Epoch 1/50\n",
            "808/808 [==============================] - ETA: 0s - loss: 0.7783 - accuracy: 0.8408\n",
            "Epoch 1: val_accuracy improved from 0.52908 to 0.85371, saving model to checkpoint/model_checkpoint.h5\n",
            "808/808 [==============================] - 6s 5ms/step - loss: 0.7783 - accuracy: 0.8408 - val_loss: 0.6093 - val_accuracy: 0.8537\n",
            "Epoch 2/50\n",
            "800/808 [============================>.] - ETA: 0s - loss: 0.4743 - accuracy: 0.8730\n",
            "Epoch 2: val_accuracy did not improve from 0.85371\n",
            "808/808 [==============================] - 4s 5ms/step - loss: 0.4747 - accuracy: 0.8732 - val_loss: 0.5892 - val_accuracy: 0.8530\n",
            "Epoch 3/50\n",
            "799/808 [============================>.] - ETA: 0s - loss: 0.3836 - accuracy: 0.8922\n",
            "Epoch 3: val_accuracy did not improve from 0.85371\n",
            "808/808 [==============================] - 4s 5ms/step - loss: 0.3834 - accuracy: 0.8923 - val_loss: 0.7193 - val_accuracy: 0.8182\n",
            "Epoch 4/50\n",
            "805/808 [============================>.] - ETA: 0s - loss: 0.3132 - accuracy: 0.9116\n",
            "Epoch 4: val_accuracy did not improve from 0.85371\n",
            "808/808 [==============================] - 4s 5ms/step - loss: 0.3130 - accuracy: 0.9117 - val_loss: 0.6937 - val_accuracy: 0.8412\n",
            "Epoch 5/50\n",
            "800/808 [============================>.] - ETA: 0s - loss: 0.2501 - accuracy: 0.9276\n",
            "Epoch 5: val_accuracy did not improve from 0.85371\n",
            "808/808 [==============================] - 5s 6ms/step - loss: 0.2500 - accuracy: 0.9277 - val_loss: 0.7613 - val_accuracy: 0.8440\n",
            "Epoch 6/50\n",
            "802/808 [============================>.] - ETA: 0s - loss: 0.1962 - accuracy: 0.9412\n",
            "Epoch 6: val_accuracy did not improve from 0.85371\n",
            "808/808 [==============================] - 4s 5ms/step - loss: 0.1969 - accuracy: 0.9410 - val_loss: 0.8144 - val_accuracy: 0.8231\n",
            "Epoch 7/50\n",
            "806/808 [============================>.] - ETA: 0s - loss: 0.1560 - accuracy: 0.9520\n",
            "Epoch 7: val_accuracy did not improve from 0.85371\n",
            "808/808 [==============================] - 4s 5ms/step - loss: 0.1559 - accuracy: 0.9520 - val_loss: 0.9497 - val_accuracy: 0.8245\n",
            "Epoch 8/50\n",
            "800/808 [============================>.] - ETA: 0s - loss: 0.1264 - accuracy: 0.9604\n",
            "Epoch 8: val_accuracy did not improve from 0.85371\n",
            "808/808 [==============================] - 5s 6ms/step - loss: 0.1265 - accuracy: 0.9604 - val_loss: 0.9207 - val_accuracy: 0.8398\n",
            "Epoch 9/50\n",
            "797/808 [============================>.] - ETA: 0s - loss: 0.1019 - accuracy: 0.9691\n",
            "Epoch 9: val_accuracy did not improve from 0.85371\n",
            "808/808 [==============================] - 4s 5ms/step - loss: 0.1018 - accuracy: 0.9691 - val_loss: 1.0846 - val_accuracy: 0.8063\n",
            "Epoch 10/50\n",
            "806/808 [============================>.] - ETA: 0s - loss: 0.0859 - accuracy: 0.9725\n",
            "Epoch 10: val_accuracy did not improve from 0.85371\n",
            "808/808 [==============================] - 4s 5ms/step - loss: 0.0860 - accuracy: 0.9725 - val_loss: 1.1797 - val_accuracy: 0.8081\n",
            "Epoch 11/50\n",
            "801/808 [============================>.] - ETA: 0s - loss: 0.0728 - accuracy: 0.9778\n",
            "Epoch 11: val_accuracy did not improve from 0.85371\n",
            "808/808 [==============================] - 5s 6ms/step - loss: 0.0726 - accuracy: 0.9779 - val_loss: 1.2140 - val_accuracy: 0.8116\n",
            "Epoch 12/50\n",
            "800/808 [============================>.] - ETA: 0s - loss: 0.0661 - accuracy: 0.9790\n",
            "Epoch 12: val_accuracy did not improve from 0.85371\n",
            "808/808 [==============================] - 4s 5ms/step - loss: 0.0658 - accuracy: 0.9791 - val_loss: 1.1605 - val_accuracy: 0.8356\n",
            "Epoch 13/50\n",
            "804/808 [============================>.] - ETA: 0s - loss: 0.0581 - accuracy: 0.9825\n",
            "Epoch 13: val_accuracy did not improve from 0.85371\n",
            "808/808 [==============================] - 4s 5ms/step - loss: 0.0581 - accuracy: 0.9824 - val_loss: 1.1718 - val_accuracy: 0.8272\n",
            "Epoch 14/50\n",
            "802/808 [============================>.] - ETA: 0s - loss: 0.0558 - accuracy: 0.9832\n",
            "Epoch 14: val_accuracy did not improve from 0.85371\n",
            "808/808 [==============================] - 5s 6ms/step - loss: 0.0562 - accuracy: 0.9831 - val_loss: 1.3649 - val_accuracy: 0.8063\n",
            "Epoch 15/50\n",
            "797/808 [============================>.] - ETA: 0s - loss: 0.0528 - accuracy: 0.9852\n",
            "Epoch 15: val_accuracy did not improve from 0.85371\n",
            "808/808 [==============================] - 4s 5ms/step - loss: 0.0524 - accuracy: 0.9853 - val_loss: 1.3764 - val_accuracy: 0.7917\n",
            "Epoch 16/50\n",
            "799/808 [============================>.] - ETA: 0s - loss: 0.0516 - accuracy: 0.9855\n",
            "Epoch 16: val_accuracy did not improve from 0.85371\n",
            "808/808 [==============================] - 4s 5ms/step - loss: 0.0517 - accuracy: 0.9855 - val_loss: 1.3887 - val_accuracy: 0.7941\n",
            "Epoch 17/50\n",
            "806/808 [============================>.] - ETA: 0s - loss: 0.0483 - accuracy: 0.9850\n",
            "Epoch 17: val_accuracy did not improve from 0.85371\n",
            "808/808 [==============================] - 4s 5ms/step - loss: 0.0483 - accuracy: 0.9850 - val_loss: 1.3537 - val_accuracy: 0.8049\n",
            "Epoch 18/50\n",
            "799/808 [============================>.] - ETA: 0s - loss: 0.0459 - accuracy: 0.9878\n",
            "Epoch 18: val_accuracy did not improve from 0.85371\n",
            "808/808 [==============================] - 4s 5ms/step - loss: 0.0457 - accuracy: 0.9878 - val_loss: 1.3326 - val_accuracy: 0.8126\n",
            "Epoch 19/50\n",
            "802/808 [============================>.] - ETA: 0s - loss: 0.0458 - accuracy: 0.9871\n",
            "Epoch 19: val_accuracy did not improve from 0.85371\n",
            "808/808 [==============================] - 4s 5ms/step - loss: 0.0460 - accuracy: 0.9870 - val_loss: 1.5881 - val_accuracy: 0.7802\n",
            "Epoch 20/50\n",
            "800/808 [============================>.] - ETA: 0s - loss: 0.0438 - accuracy: 0.9878\n",
            "Epoch 20: val_accuracy did not improve from 0.85371\n",
            "808/808 [==============================] - 4s 5ms/step - loss: 0.0435 - accuracy: 0.9879 - val_loss: 1.3759 - val_accuracy: 0.8098\n",
            "Epoch 21/50\n",
            "805/808 [============================>.] - ETA: 0s - loss: 0.0435 - accuracy: 0.9875\n",
            "Epoch 21: val_accuracy did not improve from 0.85371\n",
            "808/808 [==============================] - 5s 6ms/step - loss: 0.0435 - accuracy: 0.9875 - val_loss: 1.3784 - val_accuracy: 0.8126\n",
            "Epoch 22/50\n",
            "799/808 [============================>.] - ETA: 0s - loss: 0.0424 - accuracy: 0.9882\n",
            "Epoch 22: val_accuracy did not improve from 0.85371\n",
            "808/808 [==============================] - 4s 5ms/step - loss: 0.0422 - accuracy: 0.9882 - val_loss: 1.4513 - val_accuracy: 0.8105\n",
            "Epoch 23/50\n",
            "799/808 [============================>.] - ETA: 0s - loss: 0.0378 - accuracy: 0.9890\n",
            "Epoch 23: val_accuracy did not improve from 0.85371\n",
            "808/808 [==============================] - 4s 5ms/step - loss: 0.0375 - accuracy: 0.9891 - val_loss: 1.3650 - val_accuracy: 0.8224\n",
            "Epoch 24/50\n",
            "800/808 [============================>.] - ETA: 0s - loss: 0.0384 - accuracy: 0.9894\n",
            "Epoch 24: val_accuracy did not improve from 0.85371\n",
            "808/808 [==============================] - 5s 6ms/step - loss: 0.0386 - accuracy: 0.9894 - val_loss: 1.4533 - val_accuracy: 0.7799\n",
            "Epoch 25/50\n",
            "806/808 [============================>.] - ETA: 0s - loss: 0.0398 - accuracy: 0.9902\n",
            "Epoch 25: val_accuracy did not improve from 0.85371\n",
            "808/808 [==============================] - 4s 5ms/step - loss: 0.0398 - accuracy: 0.9902 - val_loss: 1.4555 - val_accuracy: 0.8088\n",
            "Epoch 26/50\n",
            "808/808 [==============================] - ETA: 0s - loss: 0.0371 - accuracy: 0.9900\n",
            "Epoch 26: val_accuracy did not improve from 0.85371\n",
            "808/808 [==============================] - 4s 5ms/step - loss: 0.0371 - accuracy: 0.9900 - val_loss: 1.5400 - val_accuracy: 0.8133\n",
            "Epoch 27/50\n",
            "808/808 [==============================] - ETA: 0s - loss: 0.0388 - accuracy: 0.9897\n",
            "Epoch 27: val_accuracy did not improve from 0.85371\n",
            "808/808 [==============================] - 5s 6ms/step - loss: 0.0388 - accuracy: 0.9897 - val_loss: 1.4063 - val_accuracy: 0.8042\n",
            "Epoch 28/50\n",
            "801/808 [============================>.] - ETA: 0s - loss: 0.0346 - accuracy: 0.9907\n",
            "Epoch 28: val_accuracy did not improve from 0.85371\n",
            "808/808 [==============================] - 4s 5ms/step - loss: 0.0347 - accuracy: 0.9908 - val_loss: 1.6210 - val_accuracy: 0.7861\n",
            "Epoch 29/50\n",
            "801/808 [============================>.] - ETA: 0s - loss: 0.0383 - accuracy: 0.9890\n",
            "Epoch 29: val_accuracy did not improve from 0.85371\n",
            "808/808 [==============================] - 4s 5ms/step - loss: 0.0384 - accuracy: 0.9890 - val_loss: 1.5530 - val_accuracy: 0.7889\n",
            "Epoch 30/50\n",
            "801/808 [============================>.] - ETA: 0s - loss: 0.0349 - accuracy: 0.9908\n",
            "Epoch 30: val_accuracy did not improve from 0.85371\n",
            "808/808 [==============================] - 4s 5ms/step - loss: 0.0347 - accuracy: 0.9908 - val_loss: 1.5099 - val_accuracy: 0.7928\n",
            "Epoch 31/50\n",
            "807/808 [============================>.] - ETA: 0s - loss: 0.0372 - accuracy: 0.9907\n",
            "Epoch 31: val_accuracy did not improve from 0.85371\n",
            "808/808 [==============================] - 4s 5ms/step - loss: 0.0372 - accuracy: 0.9907 - val_loss: 1.4431 - val_accuracy: 0.8109\n",
            "Epoch 32/50\n",
            "803/808 [============================>.] - ETA: 0s - loss: 0.0341 - accuracy: 0.9912\n",
            "Epoch 32: val_accuracy did not improve from 0.85371\n",
            "808/808 [==============================] - 4s 5ms/step - loss: 0.0341 - accuracy: 0.9912 - val_loss: 1.4765 - val_accuracy: 0.8004\n",
            "Epoch 33/50\n",
            "806/808 [============================>.] - ETA: 0s - loss: 0.0353 - accuracy: 0.9912\n",
            "Epoch 33: val_accuracy did not improve from 0.85371\n",
            "808/808 [==============================] - 4s 5ms/step - loss: 0.0353 - accuracy: 0.9912 - val_loss: 1.5404 - val_accuracy: 0.7945\n",
            "Epoch 34/50\n",
            "804/808 [============================>.] - ETA: 0s - loss: 0.0347 - accuracy: 0.9907\n",
            "Epoch 34: val_accuracy did not improve from 0.85371\n",
            "808/808 [==============================] - 5s 6ms/step - loss: 0.0346 - accuracy: 0.9907 - val_loss: 1.5342 - val_accuracy: 0.7997\n",
            "Epoch 35/50\n",
            "799/808 [============================>.] - ETA: 0s - loss: 0.0342 - accuracy: 0.9913\n",
            "Epoch 35: val_accuracy did not improve from 0.85371\n",
            "808/808 [==============================] - 4s 5ms/step - loss: 0.0340 - accuracy: 0.9914 - val_loss: 2.0164 - val_accuracy: 0.7579\n",
            "Epoch 36/50\n",
            "806/808 [============================>.] - ETA: 0s - loss: 0.0339 - accuracy: 0.9900\n",
            "Epoch 36: val_accuracy did not improve from 0.85371\n",
            "808/808 [==============================] - 4s 5ms/step - loss: 0.0340 - accuracy: 0.9900 - val_loss: 1.5701 - val_accuracy: 0.7994\n",
            "Epoch 37/50\n",
            "805/808 [============================>.] - ETA: 0s - loss: 0.0327 - accuracy: 0.9912\n",
            "Epoch 37: val_accuracy did not improve from 0.85371\n",
            "808/808 [==============================] - 5s 6ms/step - loss: 0.0327 - accuracy: 0.9913 - val_loss: 1.6441 - val_accuracy: 0.7893\n",
            "Epoch 38/50\n",
            "808/808 [==============================] - ETA: 0s - loss: 0.0334 - accuracy: 0.9911\n",
            "Epoch 38: val_accuracy did not improve from 0.85371\n",
            "808/808 [==============================] - 4s 5ms/step - loss: 0.0334 - accuracy: 0.9911 - val_loss: 1.4988 - val_accuracy: 0.8074\n",
            "Epoch 39/50\n",
            "805/808 [============================>.] - ETA: 0s - loss: 0.0322 - accuracy: 0.9920\n",
            "Epoch 39: val_accuracy did not improve from 0.85371\n",
            "808/808 [==============================] - 4s 5ms/step - loss: 0.0321 - accuracy: 0.9920 - val_loss: 1.5879 - val_accuracy: 0.8053\n",
            "Epoch 40/50\n",
            "807/808 [============================>.] - ETA: 0s - loss: 0.0319 - accuracy: 0.9922\n",
            "Epoch 40: val_accuracy did not improve from 0.85371\n",
            "808/808 [==============================] - 4s 6ms/step - loss: 0.0319 - accuracy: 0.9922 - val_loss: 1.6267 - val_accuracy: 0.8001\n",
            "Epoch 41/50\n",
            "807/808 [============================>.] - ETA: 0s - loss: 0.0312 - accuracy: 0.9923\n",
            "Epoch 41: val_accuracy did not improve from 0.85371\n",
            "808/808 [==============================] - 4s 5ms/step - loss: 0.0311 - accuracy: 0.9923 - val_loss: 1.6985 - val_accuracy: 0.7837\n",
            "Epoch 42/50\n",
            "804/808 [============================>.] - ETA: 0s - loss: 0.0308 - accuracy: 0.9931\n",
            "Epoch 42: val_accuracy did not improve from 0.85371\n",
            "808/808 [==============================] - 4s 5ms/step - loss: 0.0309 - accuracy: 0.9930 - val_loss: 1.6325 - val_accuracy: 0.7921\n",
            "Epoch 43/50\n",
            "808/808 [==============================] - ETA: 0s - loss: 0.0296 - accuracy: 0.9924\n",
            "Epoch 43: val_accuracy did not improve from 0.85371\n",
            "808/808 [==============================] - 4s 5ms/step - loss: 0.0296 - accuracy: 0.9924 - val_loss: 1.9281 - val_accuracy: 0.7597\n",
            "Epoch 44/50\n",
            "805/808 [============================>.] - ETA: 0s - loss: 0.0299 - accuracy: 0.9922\n",
            "Epoch 44: val_accuracy did not improve from 0.85371\n",
            "808/808 [==============================] - 4s 5ms/step - loss: 0.0298 - accuracy: 0.9922 - val_loss: 1.6164 - val_accuracy: 0.7980\n",
            "Epoch 45/50\n",
            "808/808 [==============================] - ETA: 0s - loss: 0.0289 - accuracy: 0.9930\n",
            "Epoch 45: val_accuracy did not improve from 0.85371\n",
            "808/808 [==============================] - 4s 5ms/step - loss: 0.0289 - accuracy: 0.9930 - val_loss: 1.5995 - val_accuracy: 0.8011\n",
            "Epoch 46/50\n",
            "807/808 [============================>.] - ETA: 0s - loss: 0.0292 - accuracy: 0.9919\n",
            "Epoch 46: val_accuracy did not improve from 0.85371\n",
            "808/808 [==============================] - 4s 5ms/step - loss: 0.0291 - accuracy: 0.9919 - val_loss: 1.6005 - val_accuracy: 0.8039\n",
            "Epoch 47/50\n",
            "801/808 [============================>.] - ETA: 0s - loss: 0.0271 - accuracy: 0.9931\n",
            "Epoch 47: val_accuracy did not improve from 0.85371\n",
            "808/808 [==============================] - 5s 6ms/step - loss: 0.0269 - accuracy: 0.9932 - val_loss: 1.6878 - val_accuracy: 0.7893\n",
            "Epoch 48/50\n",
            "806/808 [============================>.] - ETA: 0s - loss: 0.0297 - accuracy: 0.9917\n",
            "Epoch 48: val_accuracy did not improve from 0.85371\n",
            "808/808 [==============================] - 4s 5ms/step - loss: 0.0298 - accuracy: 0.9917 - val_loss: 2.1795 - val_accuracy: 0.7224\n",
            "Epoch 49/50\n",
            "798/808 [============================>.] - ETA: 0s - loss: 0.0263 - accuracy: 0.9926\n",
            "Epoch 49: val_accuracy did not improve from 0.85371\n",
            "808/808 [==============================] - 4s 5ms/step - loss: 0.0265 - accuracy: 0.9926 - val_loss: 1.8630 - val_accuracy: 0.7823\n",
            "Epoch 50/50\n",
            "802/808 [============================>.] - ETA: 0s - loss: 0.0270 - accuracy: 0.9929\n",
            "Epoch 50: val_accuracy did not improve from 0.85371\n",
            "808/808 [==============================] - 5s 6ms/step - loss: 0.0277 - accuracy: 0.9928 - val_loss: 1.6926 - val_accuracy: 0.7900\n"
          ]
        },
        {
          "output_type": "execute_result",
          "data": {
            "text/plain": [
              "<keras.callbacks.History at 0x7f1c73f49960>"
            ]
          },
          "metadata": {},
          "execution_count": 48
        }
      ]
    },
    {
      "cell_type": "code",
      "source": [
        "import tensorflow as tf\n",
        "\n",
        "#tried using 0.2 test size\n",
        "\n",
        "# Load the saved model\n",
        "model = tf.keras.models.load_model('M91.h5')\n",
        "\n",
        "# Evaluate the model on the validation dataset\n",
        "validation_loss, validation_accuracy = model.evaluate(X_test, y_test)\n",
        "\n",
        "print('Validation Loss:', validation_loss)\n",
        "print('Validation Accuracy:', validation_accuracy)\n"
      ],
      "metadata": {
        "colab": {
          "base_uri": "https://localhost:8080/"
        },
        "id": "HlW4s4XRbwuc",
        "outputId": "73209819-f925-49cb-a3ed-0b9f2c278a8d"
      },
      "execution_count": null,
      "outputs": [
        {
          "output_type": "stream",
          "name": "stdout",
          "text": [
            "225/225 [==============================] - 1s 3ms/step - loss: 2.4095 - accuracy: 0.7324\n",
            "Validation Loss: 2.409514904022217\n",
            "Validation Accuracy: 0.7323766946792603\n"
          ]
        }
      ]
    },
    {
      "cell_type": "code",
      "source": [
        "model.fit(X_train,y_train,epochs=50,validation_split=.3,callbacks=callback)"
      ],
      "metadata": {
        "colab": {
          "base_uri": "https://localhost:8080/"
        },
        "id": "al7wxz7Qdp1d",
        "outputId": "4a627edb-0597-43d1-98da-565289baeaf6"
      },
      "execution_count": null,
      "outputs": [
        {
          "output_type": "stream",
          "name": "stdout",
          "text": [
            "Epoch 1/50\n",
            "625/628 [============================>.] - ETA: 0s - loss: 0.0157 - accuracy: 0.9951\n",
            "Epoch 1: val_accuracy improved from 0.89255 to 0.90421, saving model to checkpoint/model_checkpoint.h5\n",
            "628/628 [==============================] - 6s 7ms/step - loss: 0.0156 - accuracy: 0.9951 - val_loss: 0.7637 - val_accuracy: 0.9042\n",
            "Epoch 2/50\n",
            "627/628 [============================>.] - ETA: 0s - loss: 0.0188 - accuracy: 0.9950\n",
            "Epoch 2: val_accuracy improved from 0.90421 to 0.90828, saving model to checkpoint/model_checkpoint.h5\n",
            "628/628 [==============================] - 3s 5ms/step - loss: 0.0187 - accuracy: 0.9950 - val_loss: 0.7246 - val_accuracy: 0.9083\n",
            "Epoch 3/50\n",
            "624/628 [============================>.] - ETA: 0s - loss: 0.0157 - accuracy: 0.9958\n",
            "Epoch 3: val_accuracy improved from 0.90828 to 0.91443, saving model to checkpoint/model_checkpoint.h5\n",
            "628/628 [==============================] - 4s 6ms/step - loss: 0.0156 - accuracy: 0.9959 - val_loss: 0.7241 - val_accuracy: 0.9144\n",
            "Epoch 4/50\n",
            "620/628 [============================>.] - ETA: 0s - loss: 0.0163 - accuracy: 0.9959\n",
            "Epoch 4: val_accuracy did not improve from 0.91443\n",
            "628/628 [==============================] - 3s 5ms/step - loss: 0.0163 - accuracy: 0.9959 - val_loss: 0.8226 - val_accuracy: 0.9021\n",
            "Epoch 5/50\n",
            "628/628 [==============================] - ETA: 0s - loss: 0.0160 - accuracy: 0.9960\n",
            "Epoch 5: val_accuracy did not improve from 0.91443\n",
            "628/628 [==============================] - 3s 5ms/step - loss: 0.0160 - accuracy: 0.9960 - val_loss: 0.7290 - val_accuracy: 0.9032\n",
            "Epoch 6/50\n",
            "621/628 [============================>.] - ETA: 0s - loss: 0.0159 - accuracy: 0.9961\n",
            "Epoch 6: val_accuracy did not improve from 0.91443\n",
            "628/628 [==============================] - 4s 6ms/step - loss: 0.0157 - accuracy: 0.9961 - val_loss: 0.7668 - val_accuracy: 0.9068\n",
            "Epoch 7/50\n",
            "623/628 [============================>.] - ETA: 0s - loss: 0.0150 - accuracy: 0.9964\n",
            "Epoch 7: val_accuracy did not improve from 0.91443\n",
            "628/628 [==============================] - 4s 6ms/step - loss: 0.0149 - accuracy: 0.9964 - val_loss: 0.8536 - val_accuracy: 0.8939\n",
            "Epoch 8/50\n",
            "625/628 [============================>.] - ETA: 0s - loss: 0.0162 - accuracy: 0.9961\n",
            "Epoch 8: val_accuracy did not improve from 0.91443\n",
            "628/628 [==============================] - 3s 5ms/step - loss: 0.0161 - accuracy: 0.9961 - val_loss: 0.8398 - val_accuracy: 0.8986\n",
            "Epoch 9/50\n",
            "619/628 [============================>.] - ETA: 0s - loss: 0.0151 - accuracy: 0.9957\n",
            "Epoch 9: val_accuracy did not improve from 0.91443\n",
            "628/628 [==============================] - 3s 5ms/step - loss: 0.0149 - accuracy: 0.9957 - val_loss: 0.7605 - val_accuracy: 0.9054\n",
            "Epoch 10/50\n",
            "622/628 [============================>.] - ETA: 0s - loss: 0.0165 - accuracy: 0.9956\n",
            "Epoch 10: val_accuracy did not improve from 0.91443\n",
            "628/628 [==============================] - 4s 6ms/step - loss: 0.0167 - accuracy: 0.9955 - val_loss: 0.8047 - val_accuracy: 0.9015\n",
            "Epoch 11/50\n",
            "624/628 [============================>.] - ETA: 0s - loss: 0.0142 - accuracy: 0.9960\n",
            "Epoch 11: val_accuracy did not improve from 0.91443\n",
            "628/628 [==============================] - 4s 6ms/step - loss: 0.0142 - accuracy: 0.9960 - val_loss: 1.1165 - val_accuracy: 0.8501\n",
            "Epoch 12/50\n",
            "616/628 [============================>.] - ETA: 0s - loss: 0.0164 - accuracy: 0.9951\n",
            "Epoch 12: val_accuracy did not improve from 0.91443\n",
            "628/628 [==============================] - 3s 5ms/step - loss: 0.0161 - accuracy: 0.9952 - val_loss: 0.8061 - val_accuracy: 0.9005\n",
            "Epoch 13/50\n",
            "624/628 [============================>.] - ETA: 0s - loss: 0.0147 - accuracy: 0.9962\n",
            "Epoch 13: val_accuracy did not improve from 0.91443\n",
            "628/628 [==============================] - 3s 5ms/step - loss: 0.0146 - accuracy: 0.9963 - val_loss: 0.7746 - val_accuracy: 0.9029\n",
            "Epoch 14/50\n",
            "623/628 [============================>.] - ETA: 0s - loss: 0.0140 - accuracy: 0.9960\n",
            "Epoch 14: val_accuracy did not improve from 0.91443\n",
            "628/628 [==============================] - 4s 6ms/step - loss: 0.0140 - accuracy: 0.9960 - val_loss: 0.7964 - val_accuracy: 0.8986\n",
            "Epoch 15/50\n",
            "619/628 [============================>.] - ETA: 0s - loss: 0.0132 - accuracy: 0.9966\n",
            "Epoch 15: val_accuracy did not improve from 0.91443\n",
            "628/628 [==============================] - 4s 6ms/step - loss: 0.0139 - accuracy: 0.9965 - val_loss: 0.7826 - val_accuracy: 0.8971\n",
            "Epoch 16/50\n",
            "618/628 [============================>.] - ETA: 0s - loss: 0.0131 - accuracy: 0.9960\n",
            "Epoch 16: val_accuracy did not improve from 0.91443\n",
            "628/628 [==============================] - 3s 5ms/step - loss: 0.0132 - accuracy: 0.9959 - val_loss: 0.7550 - val_accuracy: 0.9033\n",
            "Epoch 17/50\n",
            "617/628 [============================>.] - ETA: 0s - loss: 0.0135 - accuracy: 0.9966\n",
            "Epoch 17: val_accuracy did not improve from 0.91443\n",
            "628/628 [==============================] - 3s 5ms/step - loss: 0.0135 - accuracy: 0.9966 - val_loss: 0.9418 - val_accuracy: 0.8860\n",
            "Epoch 18/50\n",
            "621/628 [============================>.] - ETA: 0s - loss: 0.0163 - accuracy: 0.9955\n",
            "Epoch 18: val_accuracy did not improve from 0.91443\n",
            "628/628 [==============================] - 5s 7ms/step - loss: 0.0162 - accuracy: 0.9955 - val_loss: 0.9022 - val_accuracy: 0.8924\n",
            "Epoch 19/50\n",
            "617/628 [============================>.] - ETA: 0s - loss: 0.0152 - accuracy: 0.9959\n",
            "Epoch 19: val_accuracy did not improve from 0.91443\n",
            "628/628 [==============================] - 3s 5ms/step - loss: 0.0155 - accuracy: 0.9959 - val_loss: 0.9526 - val_accuracy: 0.8722\n",
            "Epoch 20/50\n",
            "620/628 [============================>.] - ETA: 0s - loss: 0.0123 - accuracy: 0.9966\n",
            "Epoch 20: val_accuracy did not improve from 0.91443\n",
            "628/628 [==============================] - 3s 5ms/step - loss: 0.0122 - accuracy: 0.9967 - val_loss: 0.9085 - val_accuracy: 0.8933\n",
            "Epoch 21/50\n",
            "627/628 [============================>.] - ETA: 0s - loss: 0.0144 - accuracy: 0.9959\n",
            "Epoch 21: val_accuracy did not improve from 0.91443\n",
            "628/628 [==============================] - 3s 5ms/step - loss: 0.0146 - accuracy: 0.9958 - val_loss: 0.8841 - val_accuracy: 0.8875\n",
            "Epoch 22/50\n",
            "627/628 [============================>.] - ETA: 0s - loss: 0.0141 - accuracy: 0.9960\n",
            "Epoch 22: val_accuracy did not improve from 0.91443\n",
            "628/628 [==============================] - 4s 7ms/step - loss: 0.0140 - accuracy: 0.9960 - val_loss: 0.8287 - val_accuracy: 0.8852\n",
            "Epoch 23/50\n",
            "617/628 [============================>.] - ETA: 0s - loss: 0.0137 - accuracy: 0.9959\n",
            "Epoch 23: val_accuracy did not improve from 0.91443\n",
            "628/628 [==============================] - 3s 5ms/step - loss: 0.0138 - accuracy: 0.9959 - val_loss: 0.8290 - val_accuracy: 0.8948\n",
            "Epoch 24/50\n",
            "618/628 [============================>.] - ETA: 0s - loss: 0.0141 - accuracy: 0.9959\n",
            "Epoch 24: val_accuracy did not improve from 0.91443\n",
            "628/628 [==============================] - 4s 7ms/step - loss: 0.0144 - accuracy: 0.9958 - val_loss: 0.8246 - val_accuracy: 0.8925\n",
            "Epoch 25/50\n",
            "627/628 [============================>.] - ETA: 0s - loss: 0.0142 - accuracy: 0.9962\n",
            "Epoch 25: val_accuracy did not improve from 0.91443\n",
            "628/628 [==============================] - 4s 7ms/step - loss: 0.0142 - accuracy: 0.9962 - val_loss: 0.8508 - val_accuracy: 0.8927\n",
            "Epoch 26/50\n",
            "616/628 [============================>.] - ETA: 0s - loss: 0.0131 - accuracy: 0.9964\n",
            "Epoch 26: val_accuracy did not improve from 0.91443\n",
            "628/628 [==============================] - 3s 6ms/step - loss: 0.0133 - accuracy: 0.9964 - val_loss: 0.8432 - val_accuracy: 0.8841\n",
            "Epoch 27/50\n",
            "619/628 [============================>.] - ETA: 0s - loss: 0.0132 - accuracy: 0.9962\n",
            "Epoch 27: val_accuracy did not improve from 0.91443\n",
            "628/628 [==============================] - 3s 5ms/step - loss: 0.0130 - accuracy: 0.9963 - val_loss: 0.8264 - val_accuracy: 0.9025\n",
            "Epoch 28/50\n",
            "619/628 [============================>.] - ETA: 0s - loss: 0.0143 - accuracy: 0.9962\n",
            "Epoch 28: val_accuracy did not improve from 0.91443\n",
            "628/628 [==============================] - 3s 5ms/step - loss: 0.0141 - accuracy: 0.9963 - val_loss: 0.8082 - val_accuracy: 0.8870\n",
            "Epoch 29/50\n",
            "620/628 [============================>.] - ETA: 0s - loss: 0.0130 - accuracy: 0.9962\n",
            "Epoch 29: val_accuracy did not improve from 0.91443\n",
            "628/628 [==============================] - 4s 7ms/step - loss: 0.0132 - accuracy: 0.9962 - val_loss: 0.9111 - val_accuracy: 0.8859\n",
            "Epoch 30/50\n",
            "619/628 [============================>.] - ETA: 0s - loss: 0.0144 - accuracy: 0.9961\n",
            "Epoch 30: val_accuracy did not improve from 0.91443\n",
            "628/628 [==============================] - 3s 5ms/step - loss: 0.0142 - accuracy: 0.9961 - val_loss: 0.8514 - val_accuracy: 0.8898\n",
            "Epoch 31/50\n",
            "626/628 [============================>.] - ETA: 0s - loss: 0.0128 - accuracy: 0.9965\n",
            "Epoch 31: val_accuracy did not improve from 0.91443\n",
            "628/628 [==============================] - 3s 5ms/step - loss: 0.0129 - accuracy: 0.9964 - val_loss: 1.1117 - val_accuracy: 0.8558\n",
            "Epoch 32/50\n",
            "622/628 [============================>.] - ETA: 0s - loss: 0.0140 - accuracy: 0.9960\n",
            "Epoch 32: val_accuracy did not improve from 0.91443\n",
            "628/628 [==============================] - 3s 5ms/step - loss: 0.0140 - accuracy: 0.9960 - val_loss: 0.8795 - val_accuracy: 0.8811\n",
            "Epoch 33/50\n",
            "628/628 [==============================] - ETA: 0s - loss: 0.0133 - accuracy: 0.9965\n",
            "Epoch 33: val_accuracy did not improve from 0.91443\n",
            "628/628 [==============================] - 4s 6ms/step - loss: 0.0133 - accuracy: 0.9965 - val_loss: 0.8291 - val_accuracy: 0.8964\n",
            "Epoch 34/50\n",
            "625/628 [============================>.] - ETA: 0s - loss: 0.0114 - accuracy: 0.9965\n",
            "Epoch 34: val_accuracy did not improve from 0.91443\n",
            "628/628 [==============================] - 3s 5ms/step - loss: 0.0114 - accuracy: 0.9964 - val_loss: 0.8265 - val_accuracy: 0.8911\n",
            "Epoch 35/50\n",
            "621/628 [============================>.] - ETA: 0s - loss: 0.0134 - accuracy: 0.9968\n",
            "Epoch 35: val_accuracy did not improve from 0.91443\n",
            "628/628 [==============================] - 3s 5ms/step - loss: 0.0132 - accuracy: 0.9968 - val_loss: 0.9357 - val_accuracy: 0.8841\n",
            "Epoch 36/50\n",
            "618/628 [============================>.] - ETA: 0s - loss: 0.0139 - accuracy: 0.9960\n",
            "Epoch 36: val_accuracy did not improve from 0.91443\n",
            "628/628 [==============================] - 3s 5ms/step - loss: 0.0139 - accuracy: 0.9960 - val_loss: 0.8436 - val_accuracy: 0.8880\n",
            "Epoch 37/50\n",
            "618/628 [============================>.] - ETA: 0s - loss: 0.0123 - accuracy: 0.9965\n",
            "Epoch 37: val_accuracy did not improve from 0.91443\n",
            "628/628 [==============================] - 4s 7ms/step - loss: 0.0127 - accuracy: 0.9964 - val_loss: 0.9914 - val_accuracy: 0.8780\n",
            "Epoch 38/50\n",
            "627/628 [============================>.] - ETA: 0s - loss: 0.0110 - accuracy: 0.9970\n",
            "Epoch 38: val_accuracy did not improve from 0.91443\n",
            "628/628 [==============================] - 3s 5ms/step - loss: 0.0114 - accuracy: 0.9969 - val_loss: 0.8334 - val_accuracy: 0.8891\n",
            "Epoch 39/50\n",
            "628/628 [==============================] - ETA: 0s - loss: 0.0145 - accuracy: 0.9964\n",
            "Epoch 39: val_accuracy did not improve from 0.91443\n",
            "628/628 [==============================] - 3s 6ms/step - loss: 0.0145 - accuracy: 0.9964 - val_loss: 0.8488 - val_accuracy: 0.8917\n",
            "Epoch 40/50\n",
            "621/628 [============================>.] - ETA: 0s - loss: 0.0123 - accuracy: 0.9963\n",
            "Epoch 40: val_accuracy did not improve from 0.91443\n",
            "628/628 [==============================] - 4s 7ms/step - loss: 0.0123 - accuracy: 0.9963 - val_loss: 0.9704 - val_accuracy: 0.8809\n",
            "Epoch 41/50\n",
            "621/628 [============================>.] - ETA: 0s - loss: 0.0125 - accuracy: 0.9967\n",
            "Epoch 41: val_accuracy did not improve from 0.91443\n",
            "628/628 [==============================] - 4s 6ms/step - loss: 0.0124 - accuracy: 0.9968 - val_loss: 0.8422 - val_accuracy: 0.8932\n",
            "Epoch 42/50\n",
            "620/628 [============================>.] - ETA: 0s - loss: 0.0127 - accuracy: 0.9964\n",
            "Epoch 42: val_accuracy did not improve from 0.91443\n",
            "628/628 [==============================] - 3s 5ms/step - loss: 0.0126 - accuracy: 0.9965 - val_loss: 0.8823 - val_accuracy: 0.8849\n",
            "Epoch 43/50\n",
            "624/628 [============================>.] - ETA: 0s - loss: 0.0147 - accuracy: 0.9960\n",
            "Epoch 43: val_accuracy did not improve from 0.91443\n",
            "628/628 [==============================] - 3s 5ms/step - loss: 0.0147 - accuracy: 0.9961 - val_loss: 0.8716 - val_accuracy: 0.8862\n",
            "Epoch 44/50\n",
            "627/628 [============================>.] - ETA: 0s - loss: 0.0124 - accuracy: 0.9969\n",
            "Epoch 44: val_accuracy did not improve from 0.91443\n",
            "628/628 [==============================] - 4s 6ms/step - loss: 0.0124 - accuracy: 0.9969 - val_loss: 0.8809 - val_accuracy: 0.8880\n",
            "Epoch 45/50\n",
            "623/628 [============================>.] - ETA: 0s - loss: 0.0114 - accuracy: 0.9965\n",
            "Epoch 45: val_accuracy did not improve from 0.91443\n",
            "628/628 [==============================] - 3s 6ms/step - loss: 0.0115 - accuracy: 0.9965 - val_loss: 0.9607 - val_accuracy: 0.8730\n",
            "Epoch 46/50\n",
            "627/628 [============================>.] - ETA: 0s - loss: 0.0112 - accuracy: 0.9966\n",
            "Epoch 46: val_accuracy did not improve from 0.91443\n",
            "628/628 [==============================] - 3s 5ms/step - loss: 0.0111 - accuracy: 0.9966 - val_loss: 0.9947 - val_accuracy: 0.8786\n",
            "Epoch 47/50\n",
            "624/628 [============================>.] - ETA: 0s - loss: 0.0134 - accuracy: 0.9960\n",
            "Epoch 47: val_accuracy did not improve from 0.91443\n",
            "628/628 [==============================] - 3s 5ms/step - loss: 0.0134 - accuracy: 0.9960 - val_loss: 0.8917 - val_accuracy: 0.8835\n",
            "Epoch 48/50\n",
            "628/628 [==============================] - ETA: 0s - loss: 0.0118 - accuracy: 0.9964\n",
            "Epoch 48: val_accuracy did not improve from 0.91443\n",
            "628/628 [==============================] - 5s 7ms/step - loss: 0.0118 - accuracy: 0.9964 - val_loss: 0.8959 - val_accuracy: 0.8841\n",
            "Epoch 49/50\n",
            "619/628 [============================>.] - ETA: 0s - loss: 0.0129 - accuracy: 0.9961\n",
            "Epoch 49: val_accuracy did not improve from 0.91443\n",
            "628/628 [==============================] - 3s 5ms/step - loss: 0.0129 - accuracy: 0.9961 - val_loss: 0.9241 - val_accuracy: 0.8794\n",
            "Epoch 50/50\n",
            "618/628 [============================>.] - ETA: 0s - loss: 0.0117 - accuracy: 0.9968\n",
            "Epoch 50: val_accuracy did not improve from 0.91443\n",
            "628/628 [==============================] - 3s 5ms/step - loss: 0.0116 - accuracy: 0.9969 - val_loss: 0.9378 - val_accuracy: 0.8829\n"
          ]
        },
        {
          "output_type": "execute_result",
          "data": {
            "text/plain": [
              "<keras.callbacks.History at 0x7f1c7411d900>"
            ]
          },
          "metadata": {},
          "execution_count": 55
        }
      ]
    },
    {
      "cell_type": "code",
      "source": [
        "model.save(\"M91.h5\")"
      ],
      "metadata": {
        "id": "8wJILoUnLEKI"
      },
      "execution_count": null,
      "outputs": []
    },
    {
      "cell_type": "code",
      "source": [
        "import tensorflow as tf\n",
        "from tensorflow.keras.models import load_model\n",
        "\n",
        "# Load the model\n",
        "loaded_model = load_model('M.h5')\n",
        "\n",
        "# Use the loaded model for predictions"
      ],
      "metadata": {
        "id": "Yh9uOjLxK-3f"
      },
      "execution_count": null,
      "outputs": []
    },
    {
      "cell_type": "code",
      "source": [
        "import cv2\n",
        "from IPython.display import clear_output\n",
        "import time\n",
        "\n",
        "# Read the image using cv2\n",
        "image = cv2.imread('im2.png')  # Replace with the actual image path\n",
        "\n",
        "# Preprocess the image\n",
        "gray_image = cv2.cvtColor(image, cv2.COLOR_BGR2GRAY)\n",
        "\n",
        "# Resize the image if necessary\n",
        "resized_image = cv2.resize(gray_image, (48, 48))\n",
        "\n",
        "# Normalize the pixel values if necessary\n",
        "normalized_image = resized_image / 255.0\n",
        "\n",
        "# Reshape the image to match the expected input shape\n",
        "reshaped_image = normalized_image.reshape((1, 48, 48, 1))\n",
        "\n",
        "# Make predictions\n",
        "predicted = loaded_model.predict(reshaped_image).argmax()\n",
        "prediction_text = label_to_text[predicted]\n",
        "print(prediction_text)\n",
        "\n",
        "\n"
      ],
      "metadata": {
        "colab": {
          "base_uri": "https://localhost:8080/"
        },
        "id": "kS-Ng7WvP-Uz",
        "outputId": "fa023a05-f33d-464e-8181-d986fa6ac1f3"
      },
      "execution_count": null,
      "outputs": [
        {
          "output_type": "stream",
          "name": "stdout",
          "text": [
            "1/1 [==============================] - 0s 38ms/step\n",
            "Fear\n"
          ]
        }
      ]
    },
    {
      "cell_type": "code",
      "source": [],
      "metadata": {
        "id": "qJWhIga-XWBQ"
      },
      "execution_count": null,
      "outputs": []
    }
  ],
  "metadata": {
    "colab": {
      "provenance": [],
      "gpuType": "T4"
    },
    "kernelspec": {
      "display_name": "Python 3",
      "name": "python3"
    },
    "language_info": {
      "name": "python"
    },
    "accelerator": "GPU"
  },
  "nbformat": 4,
  "nbformat_minor": 0
}